{
 "cells": [
  {
   "cell_type": "markdown",
   "id": "d54732de-36c7-41d2-a724-78b259e23cad",
   "metadata": {},
   "source": [
    "# Descriptive Statistics with Python\n",
    "\n",
    "Descriptive statistics summarize and describe the main features of a dataset. \n",
    "Key measures like central tendency and dispersion are used to understand the distribution of data.\n",
    "\n",
    "In this notebook, we will explore descriptive statistics using the famous **Iris dataset**, which contains data about three types of iris flowers. Python libraries like `pandas` and `numpy` will be used for calculations, and `matplotlib` and `seaborn` will assist with visualizations.\n",
    "\n",
    "Let's begin!\n"
   ]
  },
  {
   "cell_type": "markdown",
   "id": "521bbc64-8836-4fd1-b2b3-90e7684c2082",
   "metadata": {},
   "source": [
    "## Understanding the Dataset\n",
    "\n",
    "The **Iris dataset** contains information about the sepal length, sepal width, petal length, and petal width of 150 iris flowers. \n",
    "These flowers belong to three species: *setosa*, *versicolor*, and *virginica*.\n",
    "\n",
    "We will calculate descriptive statistics for each feature and visualize the data.\n"
   ]
  },
  {
   "cell_type": "markdown",
   "id": "83fdaf4a-a155-4ff6-a560-b386a28fe5f7",
   "metadata": {},
   "source": [
    "## Measures of Central Tendency\n",
    "\n",
    "Central tendency measures identify the center of a dataset. \n",
    "The **mean**, **median**, and **mode** are the most commonly used measures.\n",
    "\n",
    "- **Mean**: It is the average of all values. It is affected by extreme values.\n",
    "- **Median**: It is the middle value when the data is sorted. It is not affected by extreme values.\n",
    "- **Mode**: It is the most frequently occurring value in the dataset.\n",
    "\n",
    "Let's calculate these measures for the sepal lengths of the flowers.\n"
   ]
  },
  {
   "cell_type": "markdown",
   "id": "099b8c4b-d7e2-4baa-bb79-140a27f9683a",
   "metadata": {},
   "source": [
    "## Measures of Dispersion\n",
    "\n",
    "Dispersion measures describe how data points are spread around the central value. \n",
    "Important metrics include:\n",
    "\n",
    "- **Range**: The difference between the maximum and minimum values.\n",
    "- **Variance**: The average of squared differences from the mean.\n",
    "- **Standard Deviation**: The square root of variance, showing how much data deviates from the mean.\n",
    "- **Interquartile Range (IQR)**: The range between the first (25th percentile) and third quartile (75th percentile).\n",
    "\n",
    "These metrics provide insights into data variability. For instance, lower dispersion indicates consistency, while higher dispersion shows variability.\n"
   ]
  },
  {
   "cell_type": "markdown",
   "id": "75e1d22e-4324-4d9f-9a11-e602a17b9df3",
   "metadata": {},
   "source": [
    "## Percentiles and Quartiles\n",
    "\n",
    "Percentiles and quartiles divide data into intervals:\n",
    "\n",
    "- **Percentiles**: Data is divided into 100 equal parts.\n",
    "- **Quartiles**: Data is divided into 4 equal parts.\n",
    "  - Q1: 25th percentile\n",
    "  - Q2: 50th percentile (median)\n",
    "  - Q3: 75th percentile\n",
    "\n",
    "The **Interquartile Range (IQR)** is used to identify outliers by analyzing values that fall below Q1 or above Q3.\n"
   ]
  },
  {
   "cell_type": "markdown",
   "id": "5d0b2b19-c915-43da-bdb6-a732fb1e648f",
   "metadata": {},
   "source": [
    "## Visualizing Data with Plots\n",
    "\n",
    "Visualizations are essential for understanding data distribution and patterns. \n",
    "We will use the following plots:\n",
    "\n",
    "- **Histograms**: Show the frequency distribution of numerical data.\n",
    "- **Box Plots**: Highlight the median, quartiles, and potential outliers.\n",
    "- **Scatter Plots**: Display relationships between two variables.\n",
    "- **Pie Charts**: Represent proportions of categories in a dataset.\n",
    "\n",
    "Visualizations help in identifying trends and anomalies.\n"
   ]
  },
  {
   "cell_type": "markdown",
   "id": "19df925a-bbd9-494c-ad7f-c721dae02f6b",
   "metadata": {},
   "source": [
    "# Summary\n",
    "\n",
    "In this notebook, descriptive statistics were applied to the **Iris dataset**. \n",
    "We calculated measures of central tendency and dispersion, analyzed percentiles and quartiles, and created visualizations.\n",
    "\n",
    "Understanding these concepts is essential for data exploration and decision-making. They form the foundation for advanced statistical methods and machine learning models.\n"
   ]
  },
  {
   "cell_type": "code",
   "execution_count": 3,
   "id": "cc07a847-b1b9-4c67-ab9c-4426434985f1",
   "metadata": {},
   "outputs": [
    {
     "data": {
      "text/html": [
       "<div>\n",
       "<style scoped>\n",
       "    .dataframe tbody tr th:only-of-type {\n",
       "        vertical-align: middle;\n",
       "    }\n",
       "\n",
       "    .dataframe tbody tr th {\n",
       "        vertical-align: top;\n",
       "    }\n",
       "\n",
       "    .dataframe thead th {\n",
       "        text-align: right;\n",
       "    }\n",
       "</style>\n",
       "<table border=\"1\" class=\"dataframe\">\n",
       "  <thead>\n",
       "    <tr style=\"text-align: right;\">\n",
       "      <th></th>\n",
       "      <th>sepal_length</th>\n",
       "      <th>sepal_width</th>\n",
       "      <th>petal_length</th>\n",
       "      <th>petal_width</th>\n",
       "      <th>species</th>\n",
       "    </tr>\n",
       "  </thead>\n",
       "  <tbody>\n",
       "    <tr>\n",
       "      <th>0</th>\n",
       "      <td>5.1</td>\n",
       "      <td>3.5</td>\n",
       "      <td>1.4</td>\n",
       "      <td>0.2</td>\n",
       "      <td>setosa</td>\n",
       "    </tr>\n",
       "    <tr>\n",
       "      <th>1</th>\n",
       "      <td>4.9</td>\n",
       "      <td>3.0</td>\n",
       "      <td>1.4</td>\n",
       "      <td>0.2</td>\n",
       "      <td>setosa</td>\n",
       "    </tr>\n",
       "    <tr>\n",
       "      <th>2</th>\n",
       "      <td>4.7</td>\n",
       "      <td>3.2</td>\n",
       "      <td>1.3</td>\n",
       "      <td>0.2</td>\n",
       "      <td>setosa</td>\n",
       "    </tr>\n",
       "    <tr>\n",
       "      <th>3</th>\n",
       "      <td>4.6</td>\n",
       "      <td>3.1</td>\n",
       "      <td>1.5</td>\n",
       "      <td>0.2</td>\n",
       "      <td>setosa</td>\n",
       "    </tr>\n",
       "    <tr>\n",
       "      <th>4</th>\n",
       "      <td>5.0</td>\n",
       "      <td>3.6</td>\n",
       "      <td>1.4</td>\n",
       "      <td>0.2</td>\n",
       "      <td>setosa</td>\n",
       "    </tr>\n",
       "  </tbody>\n",
       "</table>\n",
       "</div>"
      ],
      "text/plain": [
       "   sepal_length  sepal_width  petal_length  petal_width species\n",
       "0           5.1          3.5           1.4          0.2  setosa\n",
       "1           4.9          3.0           1.4          0.2  setosa\n",
       "2           4.7          3.2           1.3          0.2  setosa\n",
       "3           4.6          3.1           1.5          0.2  setosa\n",
       "4           5.0          3.6           1.4          0.2  setosa"
      ]
     },
     "execution_count": 3,
     "metadata": {},
     "output_type": "execute_result"
    }
   ],
   "source": [
    "from sklearn.datasets import load_iris\n",
    "import pandas as pd\n",
    "\n",
    "# Load Iris dataset\n",
    "iris = load_iris()\n",
    "df = pd.DataFrame(iris.data, columns=iris.feature_names)\n",
    "df['species'] = iris.target\n",
    "\n",
    "# Rename columns for clarity\n",
    "df.columns = ['sepal_length', 'sepal_width', 'petal_length', 'petal_width', 'species']\n",
    "\n",
    "# Add species names\n",
    "df['species'] = df['species'].apply(lambda x: iris.target_names[x])\n",
    "\n",
    "# Display the first few rows\n",
    "df.head()\n"
   ]
  }
 ],
 "metadata": {
  "kernelspec": {
   "display_name": "Python 3 (ipykernel)",
   "language": "python",
   "name": "python3"
  },
  "language_info": {
   "codemirror_mode": {
    "name": "ipython",
    "version": 3
   },
   "file_extension": ".py",
   "mimetype": "text/x-python",
   "name": "python",
   "nbconvert_exporter": "python",
   "pygments_lexer": "ipython3",
   "version": "3.11.10"
  }
 },
 "nbformat": 4,
 "nbformat_minor": 5
}
