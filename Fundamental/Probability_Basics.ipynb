{
 "cells": [
  {
   "cell_type": "markdown",
   "id": "7c16e269-92ff-46f7-8943-8b679fd95592",
   "metadata": {},
   "source": [
    "# Probability Basics with Python\n",
    "\n",
    "Probability theory models uncertainty in real-world scenarios. It serves as the foundation for fields such as machine learning, data analysis, and decision-making.\n",
    "\n",
    "This notebook introduces and explores the following probability topics:\n",
    "- Sample spaces and events\n",
    "- Probability rules\n",
    "- Conditional probability and independence\n",
    "- Law of total probability\n",
    "- Bayes' theorem\n",
    "\n",
    "Real-world examples, Python implementations, and advanced visualizations are used to provide practical insights.\n"
   ]
  },
  {
   "cell_type": "markdown",
   "id": "4dc7e173-5105-4d36-a012-c5fd93978b0e",
   "metadata": {},
   "source": [
    "## Sample Space and Events\n",
    "\n",
    "### Definitions:\n",
    "1. **Sample Space**: The set of all possible outcomes of an experiment.  \n",
    "   Example: Rolling a dice has the sample space {1, 2, 3, 4, 5, 6}.\n",
    "\n",
    "2. **Events**: Subsets of the sample space.  \n",
    "   Example: Rolling an even number is the subset {2, 4, 6}.\n",
    "\n",
    "3. **Union (A ∪ B)**: The event that includes outcomes in A, B, or both.  \n",
    "4. **Intersection (A ∩ B)**: The event that includes outcomes in both A and B.  \n",
    "5. **Complement (Aᶜ)**: The event that includes outcomes not in A.\n",
    "\n",
    "### Why It Matters:\n",
    "Probability calculations depend on understanding the relationships between sample spaces and events.\n"
   ]
  },
  {
   "cell_type": "code",
   "execution_count": 24,
   "id": "3b0ff158-9efa-464b-82ab-6de0e9702a73",
   "metadata": {},
   "outputs": [
    {
     "name": "stdout",
     "output_type": "stream",
     "text": [
      "Sample Space: {'Heads', 'Tails'}\n",
      "Event A (Heads): {'Heads'}\n",
      "Event B (Tails): {'Tails'}\n"
     ]
    }
   ],
   "source": [
    "# Example: Sample space and events\n",
    "sample_space = {\"Heads\", \"Tails\"}  # Tossing a coin\n",
    "event_A = {\"Heads\"}  # Event: Getting Heads\n",
    "event_B = {\"Tails\"}  # Event: Getting Tails\n",
    "\n",
    "print(\"Sample Space:\", sample_space)\n",
    "print(\"Event A (Heads):\", event_A)\n",
    "print(\"Event B (Tails):\", event_B)\n"
   ]
  },
  {
   "cell_type": "markdown",
   "id": "c0752e21-1c76-4fd1-a2ad-2aae8adcffc1",
   "metadata": {},
   "source": [
    "## Probability Rules\n",
    "\n",
    "### 1. Addition Rule:\n",
    "The probability of A or B (denoted as A ∪ B) is:\n",
    "P(A ∪ B) = P(A) + P(B) − P(A ∩ B)\n",
    "\n",
    "### 2. Multiplication Rule:\n",
    "The probability of A and B (denoted as A ∩ B) is:\n",
    "P(A ∩ B) = P(A) × P(B|A)\n",
    "\n",
    "### 3. Complement Rule:\n",
    "The probability of not A (denoted as Aᶜ) is:\n",
    "P(Aᶜ) = 1 − P(A)\n",
    "\n",
    "### Practical Applications:\n",
    "- Addition rule is used in scenarios like calculating the probability of winning a prize in overlapping lotteries.\n",
    "- Multiplication rule applies when events are sequential, such as the probability of drawing two red cards consecutively.\n",
    "- Complement rule is useful for calculating failure probabilities (e.g., not rolling a 6 on a dice).\n"
   ]
  },
  {
   "cell_type": "code",
   "execution_count": 25,
   "id": "7abbd9bc-ec58-4996-9245-7f94f988f549",
   "metadata": {},
   "outputs": [
    {
     "name": "stdout",
     "output_type": "stream",
     "text": [
      "P(A ∪ B) = 0.7\n",
      "P(Aᶜ) = 0.5\n"
     ]
    }
   ],
   "source": [
    "# Example: Using probability rules\n",
    "P_A = 0.5  # Probability of Event A\n",
    "P_B = 0.4  # Probability of Event B\n",
    "P_A_and_B = 0.2  # Probability of A and B occurring together\n",
    "\n",
    "# Addition Rule\n",
    "P_A_or_B = P_A + P_B - P_A_and_B\n",
    "\n",
    "# Complement Rule\n",
    "P_A_complement = 1 - P_A\n",
    "\n",
    "print(f\"P(A ∪ B) = {P_A_or_B}\")\n",
    "print(f\"P(Aᶜ) = {P_A_complement}\")\n"
   ]
  },
  {
   "cell_type": "markdown",
   "id": "4a697f67-930a-45b5-877c-628c23ecacdd",
   "metadata": {},
   "source": [
    "## Conditional Probability and Independence\n",
    "\n",
    "### 1. Conditional Probability:\n",
    "The probability of A given B (denoted as P(A|B)) is:\n",
    "P(A|B) = P(A ∩ B) ÷ P(B), if P(B) > 0.\n",
    "\n",
    "### 2. Independence:\n",
    "Two events A and B are independent if:\n",
    "P(A ∩ B) = P(A) × P(B).\n",
    "\n",
    "### Real-World Examples:\n",
    "1. **Medical Testing**: The probability of having a disease (A) given a positive test result (B).\n",
    "2. **Weather Forecasting**: The probability of rain (A) given clouds (B).\n",
    "3. **Marketing Campaigns**: The probability of purchasing (A) given exposure to an ad (B).\n"
   ]
  },
  {
   "cell_type": "code",
   "execution_count": 26,
   "id": "96e4e30f-4997-47b6-a2a0-00fc4e4d5cc8",
   "metadata": {},
   "outputs": [
    {
     "name": "stdout",
     "output_type": "stream",
     "text": [
      "P(A|B) = 0.5\n",
      "P(A ∩ B) (if independent) = 0.2\n"
     ]
    }
   ],
   "source": [
    "# Example: Conditional Probability\n",
    "P_B = 0.4  # Probability of Event B\n",
    "P_A_and_B = 0.2  # Probability of A and B occurring together\n",
    "\n",
    "if P_B > 0:\n",
    "    P_A_given_B = P_A_and_B / P_B\n",
    "    print(f\"P(A|B) = {P_A_given_B}\")\n",
    "else:\n",
    "    print(\"P(B) must be greater than 0 to calculate P(A|B)\")\n",
    "\n",
    "# Independence Check\n",
    "P_A = 0.5  # Probability of Event A\n",
    "P_B = 0.4  # Probability of Event B\n",
    "P_A_and_B_independent = P_A * P_B\n",
    "print(f\"P(A ∩ B) (if independent) = {P_A_and_B_independent}\")\n"
   ]
  },
  {
   "cell_type": "markdown",
   "id": "2c530122-3dc2-45ef-a212-8a14dccb0284",
   "metadata": {},
   "source": [
    "## Law of Total Probability and Bayes' Theorem\n",
    "\n",
    "### 1. Law of Total Probability:\n",
    "If B₁, B₂, ..., Bₙ are mutually exclusive and collectively exhaustive events, then:\n",
    "P(A) = P(B₁) × P(A|B₁) + P(B₂) × P(A|B₂) + ... + P(Bₙ) × P(A|Bₙ).\n",
    "\n",
    "### 2. Bayes' Theorem:\n",
    "The conditional probability P(A|B) is:\n",
    "P(A|B) = [P(B|A) × P(A)] ÷ P(B).\n",
    "\n",
    "### Applications:\n",
    "- **Medical Diagnosis**: Calculate the likelihood of a disease given a positive test.\n",
    "- **Spam Filtering**: Assess if an email is spam based on specific keywords.\n",
    "- **Weather Prediction**: Predict the chance of rain based on historical data.\n"
   ]
  },
  {
   "cell_type": "code",
   "execution_count": 28,
   "id": "5145e74d-fbd9-431f-8c16-e7c9ad118da5",
   "metadata": {},
   "outputs": [
    {
     "name": "stdout",
     "output_type": "stream",
     "text": [
      "P(A) using the Law of Total Probability = 0.29\n",
      "P(A|B) using Bayes' Theorem = 0.33333333333333337\n"
     ]
    }
   ],
   "source": [
    "# Example: Law of Total Probability\n",
    "P_B1 = 0.3\n",
    "P_B2 = 0.7\n",
    "P_A_given_B1 = 0.5\n",
    "P_A_given_B2 = 0.2\n",
    "\n",
    "P_A = P_B1 * P_A_given_B1 + P_B2 * P_A_given_B2\n",
    "print(f\"P(A) using the Law of Total Probability = {P_A}\")\n",
    "\n",
    "# Example: Bayes' Theorem\n",
    "P_B_given_A = 0.4\n",
    "P_A = 0.5\n",
    "P_B = 0.6\n",
    "\n",
    "P_A_given_B = (P_B_given_A * P_A) / P_B\n",
    "print(f\"P(A|B) using Bayes' Theorem = {P_A_given_B}\")\n"
   ]
  },
  {
   "cell_type": "markdown",
   "id": "e9a16487-1a87-4330-9393-e74445f8eeba",
   "metadata": {},
   "source": [
    "## Advanced Visualizations\n",
    "\n",
    "### 1. Venn Diagrams:\n",
    "Illustrate unions, intersections, and complements of events.\n",
    "\n",
    "### 2. Conditional Probability Bar Charts:\n",
    "Visualize probabilities given specific conditions.\n",
    "\n",
    "### 3. Bayesian Inference:\n",
    "Showcase how probabilities are updated using Bayes' theorem.\n"
   ]
  },
  {
   "cell_type": "code",
   "execution_count": 30,
   "id": "10084e23-b442-4593-bf6a-d75aa4db5515",
   "metadata": {},
   "outputs": [
    {
     "data": {
      "image/png": "[encoded data removed]",
      "text/plain": [
       "<Figure size 640x480 with 1 Axes>"
      ]
     },
     "metadata": {},
     "output_type": "display_data"
    },
    {
     "data": {
      "image/png": "[encoded data removed]",
      "text/plain": [
       "<Figure size 640x480 with 1 Axes>"
      ]
     },
     "metadata": {},
     "output_type": "display_data"
    }
   ],
   "source": [
    "import matplotlib.pyplot as plt\n",
    "from matplotlib_venn import venn2\n",
    "\n",
    "# Venn Diagram Example\n",
    "venn = venn2(subsets=(50, 40, 20), set_labels=('A', 'B'))\n",
    "plt.title(\"Venn Diagram of Events A and B\")\n",
    "plt.show()\n",
    "\n",
    "# Bar Chart Example: Conditional Probabilities\n",
    "labels = ['P(A)', 'P(B)', 'P(A|B)']\n",
    "values = [0.5, 0.4, P_A_given_B]\n",
    "\n",
    "plt.bar(labels, values, color=['blue', 'orange', 'green'])\n",
    "plt.title(\"Conditional Probabilities\")\n",
    "plt.ylabel(\"Probability\")\n",
    "plt.show()\n"
   ]
  },
  {
   "cell_type": "markdown",
   "id": "02b10609-eab3-4820-9c7f-0076af9655c0",
   "metadata": {},
   "source": [
    "# Real-World Case Studies\n",
    "\n",
    "### 1. Medical Diagnosis:\n",
    "A test has:\n",
    "- Sensitivity: 90% (P(Test+|Disease))\n",
    "- Specificity: 95% (P(Test-|No Disease))\n",
    "- Disease prevalence: 1%.\n",
    "\n",
    "Using Bayes' theorem, calculate the probability of having the disease given a positive test.\n",
    "\n",
    "### 2. Marketing Campaign:\n",
    "- Event A: A user makes a purchase.\n",
    "- Event B: A user views an ad.\n",
    "Assess how ad exposure affects the probability of purchase.\n",
    "\n",
    "### 3. Fraud Detection:\n",
    "- Event A: A transaction is fraudulent.\n",
    "- Event B: A transaction exceeds $10,000.\n",
    "Determine the likelihood of fraud given the transaction value.\n"
   ]
  },
  {
   "cell_type": "markdown",
   "id": "5ee83bc3-7b54-475c-90f5-4656ac37c1ed",
   "metadata": {},
   "source": [
    "# Example: Spam Detection Using Conditional Probability\n",
    "\n",
    "### Problem:\n",
    "A spam filter uses specific keywords to classify emails as spam or not spam. The probability of an email being spam (Event A) or not spam (Event B) is based on whether the email contains certain keywords.\n",
    "\n",
    "### Scenario:\n",
    "1. Probability of a randomly selected email being spam: P(Spam) = 0.3\n",
    "2. Probability of a randomly selected email being not spam: P(Not Spam) = 0.7\n",
    "3. Probability of keywords appearing in spam emails: P(Keyword|Spam) = 0.8\n",
    "4. Probability of keywords appearing in non-spam emails: P(Keyword|Not Spam) = 0.2\n",
    "\n",
    "The task is to calculate the probability that an email is spam, given it contains the specified keywords (P(Spam|Keyword)).\n",
    "\n",
    "### Formula:\n",
    "Using Bayes' theorem:\n",
    "P(Spam|Keyword) = [P(Keyword|Spam) × P(Spam)] ÷ P(Keyword)\n",
    "\n",
    "Where:\n",
    "P(Keyword) = P(Keyword|Spam) × P(Spam) + P(Keyword|Not Spam) × P(Not Spam)\n"
   ]
  },
  {
   "cell_type": "code",
   "execution_count": 31,
   "id": "52d2381d-0790-458c-bbe8-c2efccce5057",
   "metadata": {},
   "outputs": [
    {
     "name": "stdout",
     "output_type": "stream",
     "text": [
      "P(Keyword): 0.38\n",
      "P(Spam|Keyword): 0.63\n"
     ]
    }
   ],
   "source": [
    "# Given probabilities\n",
    "P_spam = 0.3  # Probability of spam\n",
    "P_not_spam = 0.7  # Probability of not spam\n",
    "P_keyword_given_spam = 0.8  # Probability of keywords in spam emails\n",
    "P_keyword_given_not_spam = 0.2  # Probability of keywords in non-spam emails\n",
    "\n",
    "# Calculate P(Keyword) using the law of total probability\n",
    "P_keyword = (P_keyword_given_spam * P_spam) + (P_keyword_given_not_spam * P_not_spam)\n",
    "\n",
    "# Calculate P(Spam|Keyword) using Bayes' theorem\n",
    "P_spam_given_keyword = (P_keyword_given_spam * P_spam) / P_keyword\n",
    "\n",
    "# Results\n",
    "print(f\"P(Keyword): {P_keyword:.2f}\")\n",
    "print(f\"P(Spam|Keyword): {P_spam_given_keyword:.2f}\")\n"
   ]
  },
  {
   "cell_type": "markdown",
   "id": "4e39ec97-a51f-4e9d-92e9-e392dfcd6e12",
   "metadata": {},
   "source": [
    "# Explanation of Results\n",
    "\n",
    "1. **P(Keyword)**: \n",
    "   - This is the overall probability that an email contains the specified keywords, regardless of whether it is spam or not.\n",
    "\n",
    "2. **P(Spam|Keyword)**: \n",
    "   - This is the probability that an email is spam, given that it contains the specified keywords. It helps determine the likelihood that the filter correctly classifies the email as spam.\n",
    "\n",
    "### Real-World Insight:\n",
    "Spam filters rely on conditional probabilities to classify emails. They use features like keywords, sender information, and frequency of certain phrases. The results show that if specific keywords are highly correlated with spam, the probability of correct spam classification increases.\n"
   ]
  },
  {
   "cell_type": "markdown",
   "id": "1099423d-7678-4840-bf39-7eea0ccdc087",
   "metadata": {},
   "source": [
    "# Visualization of Spam vs. Non-Spam Email Probabilities\n",
    "\n",
    "To make the results more intuitive, visualize the probabilities using a bar chart.\n"
   ]
  },
  {
   "cell_type": "code",
   "execution_count": 32,
   "id": "ea3f4d69-16aa-4018-827b-28fd8baf724b",
   "metadata": {},
   "outputs": [
    {
     "data": {
      "image/png": "[encoded data removed]",
      "text/plain": [
       "<Figure size 640x480 with 1 Axes>"
      ]
     },
     "metadata": {},
     "output_type": "display_data"
    }
   ],
   "source": [
    "import matplotlib.pyplot as plt\n",
    "\n",
    "# Data for visualization\n",
    "labels = ['Spam', 'Not Spam']\n",
    "probabilities = [P_spam_given_keyword, 1 - P_spam_given_keyword]\n",
    "\n",
    "# Plot the bar chart\n",
    "plt.bar(labels, probabilities, color=['red', 'blue'])\n",
    "plt.title(\"Probability of Email Being Spam or Not Spam Given Keywords\")\n",
    "plt.ylabel(\"Probability\")\n",
    "plt.ylim(0, 1)\n",
    "plt.show()\n"
   ]
  },
  {
   "cell_type": "markdown",
   "id": "7fb47d28-e792-462e-ab26-e48f4487f853",
   "metadata": {},
   "source": [
    "# Add-On: Adjusting Probabilities for New Keywords\n",
    "\n",
    "Adjust probabilities dynamically:\n",
    "- What happens if the keyword is rare in spam but frequent in non-spam emails?\n",
    "- How does changing the overall percentage of spam emails affect classification?\n",
    "\n",
    "These changes can be simulated using different values for:\n",
    "- P(Spam)\n",
    "- P(Keyword|Spam)\n",
    "- P(Keyword|Not Spam)\n"
   ]
  }
 ],
 "metadata": {
  "kernelspec": {
   "display_name": "Python 3 (ipykernel)",
   "language": "python",
   "name": "python3"
  },
  "language_info": {
   "codemirror_mode": {
    "name": "ipython",
    "version": 3
   },
   "file_extension": ".py",
   "mimetype": "text/x-python",
   "name": "python",
   "nbconvert_exporter": "python",
   "pygments_lexer": "ipython3",
   "version": "3.11.10"
  }
 },
 "nbformat": 4,
 "nbformat_minor": 5
}
