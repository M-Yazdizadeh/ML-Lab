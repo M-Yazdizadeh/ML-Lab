{
 "cells": [
  {
   "cell_type": "markdown",
   "id": "0b6853bf-21fc-415a-8c2d-e362062ebf66",
   "metadata": {},
   "source": [
    "# 1. One-Way ANOVA\n",
    "\n",
    "### One-Way ANOVA\n",
    "\n",
    "**One-Way ANOVA** is used to compare the means of three or more independent groups to determine if at least one group mean is different from the others. It tests the null hypothesis that all group means are equal.\n",
    "\n",
    "**Hypotheses for One-Way ANOVA**:\n",
    "- **Null hypothesis (H₀)**: The means of all groups are equal.\n",
    "- **Alternative hypothesis (H₁)**: At least one group mean is different.\n",
    "\n",
    "The test statistic for One-Way ANOVA is:\n",
    "\n",
    "$$\n",
    "F = \\frac{\\text{Between-group variance}}{\\text{Within-group variance}}\n",
    "$$\n",
    "\n",
    "Where:\n",
    "- **Between-group variance** measures the variation due to the interaction between the different groups.\n",
    "- **Within-group variance** measures the variation within each group.\n",
    "\n",
    "If the calculated **F-statistic** is significantly larger than 1, we reject the null hypothesis, suggesting that at least one group mean is different.\n",
    "\n",
    "### Example: Comparing Exam Scores Among Different Teaching Methods\n",
    "\n",
    "In this example, we want to compare the average exam scores of students who were taught using three different teaching methods.\n",
    "\n"
   ]
  },
  {
   "cell_type": "code",
   "execution_count": 1,
   "id": "322d36e7-4f60-4d0d-949b-c7549c1d537b",
   "metadata": {},
   "outputs": [
    {
     "name": "stdout",
     "output_type": "stream",
     "text": [
      "F-statistic: 27.49\n",
      "P-value: 0.0000\n",
      "Reject the null hypothesis: At least one group mean is different.\n"
     ]
    }
   ],
   "source": [
    "import numpy as np\n",
    "import scipy.stats as stats\n",
    "import matplotlib.pyplot as plt\n",
    "\n",
    "# Simulating data for three teaching methods\n",
    "np.random.seed(42)\n",
    "method_1 = np.random.normal(80, 5, 30)  # Teaching Method 1 (mean = 80, std = 5)\n",
    "method_2 = np.random.normal(85, 6, 30)  # Teaching Method 2 (mean = 85, std = 6)\n",
    "method_3 = np.random.normal(90, 7, 30)  # Teaching Method 3 (mean = 90, std = 7)\n",
    "\n",
    "# Data for the groups\n",
    "data = [method_1, method_2, method_3]\n",
    "\n",
    "# Perform One-Way ANOVA\n",
    "f_statistic, p_value = stats.f_oneway(method_1, method_2, method_3)\n",
    "\n",
    "# Display the results\n",
    "print(f\"F-statistic: {f_statistic:.2f}\")\n",
    "print(f\"P-value: {p_value:.4f}\")\n",
    "\n",
    "# Interpretation\n",
    "if p_value < 0.05:\n",
    "    print(\"Reject the null hypothesis: At least one group mean is different.\")\n",
    "else:\n",
    "    print(\"Fail to reject the null hypothesis: All group means are equal.\")\n"
   ]
  },
  {
   "cell_type": "markdown",
   "id": "91e228e0-f32d-453b-805f-afcfd0058bde",
   "metadata": {},
   "source": [
    "# 2. Post-hoc Analysis (Tukey's HSD Test)\n",
    "### Post-hoc Analysis\n",
    "\n",
    "If the One-Way ANOVA results in a significant p-value, we need to conduct a **Post-hoc analysis** to determine exactly which groups differ from each other. One of the most common Post-hoc tests is the **Tukey's Honestly Significant Difference (HSD) test**.\n",
    "\n",
    "**Tukey's HSD Test** compares the means of each possible pair of groups and adjusts for multiple comparisons. It calculates the difference between each pair of group means and provides a p-value to determine if the difference is statistically significant.\n",
    "\n",
    "### Formula for Tukey's HSD:\n",
    "\n",
    "$$\n",
    "HSD = \\frac{\\text{Difference between means}}{\\text{Standard error of the difference}}\n",
    "$$\n",
    "\n",
    "Where:\n",
    "- The **Difference between means** is the absolute difference between the two means.\n",
    "- The **Standard error** accounts for the variation within each group.\n",
    "\n",
    "We perform the Tukey test after a significant result from ANOVA.\n",
    "\n",
    "### Continuing with the Example: Post-hoc Analysis for Teaching Methods\n",
    "\n"
   ]
  },
  {
   "cell_type": "code",
   "execution_count": 2,
   "id": "d49a97e3-13a7-4d84-80fb-03266b30d0be",
   "metadata": {},
   "outputs": [
    {
     "name": "stdout",
     "output_type": "stream",
     "text": [
      "  Multiple Comparison of Means - Tukey HSD, FWER=0.05  \n",
      "=======================================================\n",
      " group1   group2  meandiff p-adj  lower   upper  reject\n",
      "-------------------------------------------------------\n",
      "Method 1 Method 2   5.2138 0.0021 1.6649  8.7626   True\n",
      "Method 1 Method 3  11.0309    0.0 7.4821 14.5798   True\n",
      "Method 2 Method 3   5.8172 0.0005 2.2683   9.366   True\n",
      "-------------------------------------------------------\n"
     ]
    }
   ],
   "source": [
    "from statsmodels.stats.multicomp import pairwise_tukeyhsd\n",
    "\n",
    "# Combine data into a single array for Tukey's HSD\n",
    "scores = np.concatenate([method_1, method_2, method_3])\n",
    "labels = ['Method 1'] * len(method_1) + ['Method 2'] * len(method_2) + ['Method 3'] * len(method_3)\n",
    "\n",
    "# Tukey's HSD Test\n",
    "tukey = pairwise_tukeyhsd(scores, labels, alpha=0.05)\n",
    "\n",
    "# Display the Tukey test results\n",
    "print(tukey.summary())\n"
   ]
  },
  {
   "cell_type": "markdown",
   "id": "0cd9b00b-76a7-46f5-a4ed-5cca535fb6f1",
   "metadata": {},
   "source": [
    "### Explanation of Output:\n",
    "1. F-statistic: Indicates the ratio of variances between groups to within groups. A larger value suggests greater differences between groups compared to within-group variability.\n",
    "   \n",
    "2. p-value: Used to determine the significance of the F-statistic. If the p-value is less than 0.05 (alpha level), we reject the null hypothesis.\n",
    "\n",
    "3. Tukey's HSD Results: The table will display the differences between pairs of groups, their confidence intervals, and p-values. If the p-value is less than 0.05, we conclude that the pair of groups is significantly different."
   ]
  },
  {
   "cell_type": "markdown",
   "id": "d3ccfbb8-3a54-4dcb-810c-36de21aa0f63",
   "metadata": {},
   "source": [
    "# Real-World Example\n"
   ]
  },
  {
   "cell_type": "markdown",
   "id": "e3828e8a-4f10-4b16-9d44-7806cf2a2c92",
   "metadata": {},
   "source": [
    "### Scenario 1: Comparing Employee Salaries Across Departments\n",
    "\n",
    "In a company, we want to compare the salaries of employees across three departments: **Sales**, **Marketing**, and **Engineering**. The null hypothesis is that the average salary is the same across all departments, and the alternative hypothesis is that at least one department has a different average salary.\n",
    "\n",
    "The ANOVA results will help us determine if there are any significant differences between the departments, and Tukey's test will show exactly which pairs of departments differ.\n",
    "\n"
   ]
  },
  {
   "cell_type": "code",
   "execution_count": 3,
   "id": "2e96e753-440f-4e3a-8cd7-f3479d3885ca",
   "metadata": {},
   "outputs": [
    {
     "name": "stdout",
     "output_type": "stream",
     "text": [
      "F-statistic: 32.58\n",
      "P-value: 0.0000\n",
      "         Multiple Comparison of Means - Tukey HSD, FWER=0.05          \n",
      "======================================================================\n",
      "   group1     group2    meandiff  p-adj     lower      upper    reject\n",
      "----------------------------------------------------------------------\n",
      "Engineering Marketing   -7521.255    0.0 -11118.0028 -3924.5073   True\n",
      "Engineering     Sales -12052.7645    0.0 -15649.5122 -8456.0168   True\n",
      "  Marketing     Sales  -4531.5094 0.0096  -8128.2572  -934.7617   True\n",
      "----------------------------------------------------------------------\n"
     ]
    }
   ],
   "source": [
    "# Simulating data for employee salaries in different departments\n",
    "sales = np.random.normal(60000, 5000, 30)\n",
    "marketing = np.random.normal(65000, 6000, 30)\n",
    "engineering = np.random.normal(70000, 7000, 30)\n",
    "\n",
    "# Perform One-Way ANOVA\n",
    "f_stat, p_val = stats.f_oneway(sales, marketing, engineering)\n",
    "print(f\"F-statistic: {f_stat:.2f}\")\n",
    "print(f\"P-value: {p_val:.4f}\")\n",
    "\n",
    "# If significant, conduct Tukey's HSD test\n",
    "if p_val < 0.05:\n",
    "    scores = np.concatenate([sales, marketing, engineering])\n",
    "    labels = ['Sales'] * len(sales) + ['Marketing'] * len(marketing) + ['Engineering'] * len(engineering)\n",
    "    tukey_test = pairwise_tukeyhsd(scores, labels, alpha=0.05)\n",
    "    print(tukey_test.summary())\n",
    "else:\n",
    "    print(\"Fail to reject the null hypothesis: Salaries are equal across departments.\")\n"
   ]
  },
  {
   "cell_type": "markdown",
   "id": "d893eb01-2039-4bfa-b54a-d0070bce0740",
   "metadata": {},
   "source": [
    "## Scenario 2: Comparing Product Prices Across Different Stores\n",
    "In this case, we are comparing the prices of a product (say, a laptop) across different retail stores to determine if any store offers a significantly different price. A company wants to compare the prices of a product in three different stores: Store A, Store B, and Store C. The goal is to determine whether there are significant differences in the pricing across these stores.\n",
    "\n",
    "\n",
    "Null Hypothesis (H₀): The mean prices are the same across the stores. Alternative Hypothesis (H₁): At least one store has a different price."
   ]
  },
  {
   "cell_type": "code",
   "execution_count": 4,
   "id": "8c74dd08-ab1d-4743-9ecd-2356c74f5290",
   "metadata": {},
   "outputs": [
    {
     "name": "stdout",
     "output_type": "stream",
     "text": [
      "F-statistic: 4.39\n",
      "P-value: 0.0152\n",
      " Multiple Comparison of Means - Tukey HSD, FWER=0.05  \n",
      "======================================================\n",
      " group1  group2 meandiff p-adj   lower   upper  reject\n",
      "------------------------------------------------------\n",
      "Store A Store B   9.8891 0.1887 -3.4971 23.2752  False\n",
      "Store A Store C  16.5367 0.0114  3.1505 29.9228   True\n",
      "Store B Store C   6.6476 0.4658 -6.7385 20.0338  False\n",
      "------------------------------------------------------\n"
     ]
    }
   ],
   "source": [
    "# Simulating product prices from three different stores\n",
    "store_A = np.random.normal(500, 20, 30)  # Store A: mean = 500, std = 20\n",
    "store_B = np.random.normal(510, 25, 30)  # Store B: mean = 510, std = 25\n",
    "store_C = np.random.normal(520, 15, 30)  # Store C: mean = 520, std = 15\n",
    "\n",
    "# Perform One-Way ANOVA\n",
    "f_stat, p_val = stats.f_oneway(store_A, store_B, store_C)\n",
    "\n",
    "# Display results\n",
    "print(f\"F-statistic: {f_stat:.2f}\")\n",
    "print(f\"P-value: {p_val:.4f}\")\n",
    "\n",
    "# If p-value is significant, perform Tukey's HSD test\n",
    "if p_val < 0.05:\n",
    "    scores = np.concatenate([store_A, store_B, store_C])\n",
    "    labels = ['Store A'] * len(store_A) + ['Store B'] * len(store_B) + ['Store C'] * len(store_C)\n",
    "    tukey_test = pairwise_tukeyhsd(scores, labels, alpha=0.05)\n",
    "    print(tukey_test.summary())\n",
    "else:\n",
    "    print(\"Fail to reject the null hypothesis: Prices are equal across stores.\")\n"
   ]
  },
  {
   "cell_type": "markdown",
   "id": "51215fe2-a450-4b5c-ae3b-a92815f3340b",
   "metadata": {},
   "source": [
    "## Scenario 3: Comparing Customer Satisfaction Ratings for Different Service Providers\n",
    "Suppose a customer feedback survey is conducted for three service providers, and we want to determine if there is a significant difference in customer satisfaction scores. In this case, customer satisfaction scores are compared for Service Provider A, B, and C. The goal is to determine if one provider's customers report significantly different satisfaction levels.\n"
   ]
  },
  {
   "cell_type": "code",
   "execution_count": 5,
   "id": "05aca6f4-90d3-400e-ba54-2084f34370a8",
   "metadata": {},
   "outputs": [
    {
     "name": "stdout",
     "output_type": "stream",
     "text": [
      "F-statistic: 27.75\n",
      "P-value: 0.0000\n",
      "    Multiple Comparison of Means - Tukey HSD, FWER=0.05     \n",
      "============================================================\n",
      "  group1     group2   meandiff p-adj   lower   upper  reject\n",
      "------------------------------------------------------------\n",
      "Provider A Provider B   0.8775 0.0196  0.1168  1.6382   True\n",
      "Provider A Provider C  -1.4739    0.0 -2.2345 -0.7132   True\n",
      "Provider B Provider C  -2.3514    0.0  -3.112 -1.5907   True\n",
      "------------------------------------------------------------\n"
     ]
    }
   ],
   "source": [
    "# Simulating customer satisfaction ratings (1-10 scale)\n",
    "provider_A = np.random.normal(7.8, 1.5, 30)  # Provider A: mean = 7.8, std = 1.5\n",
    "provider_B = np.random.normal(8.5, 1.2, 30)  # Provider B: mean = 8.5, std = 1.2\n",
    "provider_C = np.random.normal(6.9, 2.0, 30)  # Provider C: mean = 6.9, std = 2.0\n",
    "\n",
    "# Perform One-Way ANOVA\n",
    "f_stat, p_val = stats.f_oneway(provider_A, provider_B, provider_C)\n",
    "\n",
    "# Display results\n",
    "print(f\"F-statistic: {f_stat:.2f}\")\n",
    "print(f\"P-value: {p_val:.4f}\")\n",
    "\n",
    "# If p-value is significant, perform Tukey's HSD test\n",
    "if p_val < 0.05:\n",
    "    scores = np.concatenate([provider_A, provider_B, provider_C])\n",
    "    labels = ['Provider A'] * len(provider_A) + ['Provider B'] * len(provider_B) + ['Provider C'] * len(provider_C)\n",
    "    tukey_test = pairwise_tukeyhsd(scores, labels, alpha=0.05)\n",
    "    print(tukey_test.summary())\n",
    "else:\n",
    "    print(\"Fail to reject the null hypothesis: Satisfaction ratings are equal across providers.\")\n"
   ]
  },
  {
   "cell_type": "markdown",
   "id": "609bac44-917d-4ea6-a32e-72d0df8696a8",
   "metadata": {},
   "source": [
    "## Scenario 4: Comparing Sales Performance Across Different Regions\n",
    "In this case, sales figures from three regions are compared to determine if one region has higher or lower sales performance than the others. The goal is to determine if there is a significant difference in sales performance across three regions (North, South, and West).\n"
   ]
  },
  {
   "cell_type": "code",
   "execution_count": 6,
   "id": "9202a19d-7f3a-4437-9dea-dad1166ee6ca",
   "metadata": {},
   "outputs": [
    {
     "name": "stdout",
     "output_type": "stream",
     "text": [
      "F-statistic: 0.77\n",
      "P-value: 0.4655\n",
      "Fail to reject the null hypothesis: Sales performance is equal across regions.\n"
     ]
    }
   ],
   "source": [
    "# Simulating sales performance (in thousands)\n",
    "north_sales = np.random.normal(100, 15, 30)  # North Region: mean = 100, std = 15\n",
    "south_sales = np.random.normal(105, 10, 30)  # South Region: mean = 105, std = 10\n",
    "west_sales = np.random.normal(110, 20, 30)   # West Region: mean = 110, std = 20\n",
    "\n",
    "# Perform One-Way ANOVA\n",
    "f_stat, p_val = stats.f_oneway(north_sales, south_sales, west_sales)\n",
    "\n",
    "# Display results\n",
    "print(f\"F-statistic: {f_stat:.2f}\")\n",
    "print(f\"P-value: {p_val:.4f}\")\n",
    "\n",
    "# If p-value is significant, perform Tukey's HSD test\n",
    "if p_val < 0.05:\n",
    "    scores = np.concatenate([north_sales, south_sales, west_sales])\n",
    "    labels = ['North'] * len(north_sales) + ['South'] * len(south_sales) + ['West'] * len(west_sales)\n",
    "    tukey_test = pairwise_tukeyhsd(scores, labels, alpha=0.05)\n",
    "    print(tukey_test.summary())\n",
    "else:\n",
    "    print(\"Fail to reject the null hypothesis: Sales performance is equal across regions.\")\n"
   ]
  },
  {
   "cell_type": "markdown",
   "id": "97a92140-d351-4681-a2cb-0883a6ed8dbb",
   "metadata": {},
   "source": [
    "# Data Visualization for better Understanding\n",
    "We can include box plots to visualize the spread and distribution of the groups being compared. Box plots help in understanding the variance and identifying potential outliers."
   ]
  },
  {
   "cell_type": "code",
   "execution_count": 7,
   "id": "500a0424-37a2-48f5-ab42-0765836ca3e8",
   "metadata": {},
   "outputs": [
    {
     "data": {
      "image/png": "[encoded data removed]",
      "text/plain": [
       "<Figure size 800x600 with 1 Axes>"
      ]
     },
     "metadata": {},
     "output_type": "display_data"
    }
   ],
   "source": [
    "import seaborn as sns\n",
    "\n",
    "# Combine all data for visualization\n",
    "data = [store_A, store_B, store_C]\n",
    "labels = ['Store A', 'Store B', 'Store C']\n",
    "\n",
    "# Create a box plot\n",
    "plt.figure(figsize=(8, 6))\n",
    "sns.boxplot(data=data, palette='Set2')\n",
    "plt.xticks([0, 1, 2], labels)\n",
    "plt.title(\"Comparison of Product Prices Across Stores\")\n",
    "plt.ylabel(\"Price\")\n",
    "plt.show()\n"
   ]
  },
  {
   "cell_type": "markdown",
   "id": "e783f1dc-7d73-4e1e-9d1c-f959d5391486",
   "metadata": {},
   "source": [
    " This visualizes the price distributions for each store, giving a more intuitive understanding of the data before performing ANOVA."
   ]
  }
 ],
 "metadata": {
  "kernelspec": {
   "display_name": "Python 3 (ipykernel)",
   "language": "python",
   "name": "python3"
  },
  "language_info": {
   "codemirror_mode": {
    "name": "ipython",
    "version": 3
   },
   "file_extension": ".py",
   "mimetype": "text/x-python",
   "name": "python",
   "nbconvert_exporter": "python",
   "pygments_lexer": "ipython3",
   "version": "3.11.10"
  }
 },
 "nbformat": 4,
 "nbformat_minor": 5
}
