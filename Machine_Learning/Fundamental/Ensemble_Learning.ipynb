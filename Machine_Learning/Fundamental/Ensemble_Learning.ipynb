{
 "cells": [
  {
   "cell_type": "markdown",
   "id": "bfc2bdd6-ab94-4749-9418-158f1ef7e64f",
   "metadata": {},
   "source": [
    "# **Ensemble Learning: Bagging and Boosting**\n",
    "## Learning Objectives\n",
    "By the end of this notebook, you will:\n",
    "1. Understand the concepts of Bagging and Boosting.\n",
    "2. Implement Random Forest, AdaBoost, Gradient Boosting, and XGBoost.\n",
    "3. Analyze and visualize the performance of these ensemble methods.\n",
    "4. Compare the strengths and weaknesses of Bagging and Boosting.\n",
    "\n",
    "---\n",
    "\n",
    "# **Introduction to Ensemble Learning**\n",
    "Ensemble Learning combines predictions from multiple models to improve performance. It is based on the principle that a group of weak learners can perform better together than individually.\n",
    "\n",
    "### Key Benefits:\n",
    "1. **Robustness**: Reduces overfitting and variance.\n",
    "2. **Accuracy**: Handles bias and combines diverse hypotheses.\n",
    "3. **Scalability**: Can be applied to large datasets with diverse distributions.\n",
    "\n",
    "### Types of Ensemble Methods:\n",
    "1. **Bagging (Bootstrap Aggregating)**: Reduces variance by training models independently.\n",
    "2. **Boosting**: Reduces bias by training models sequentially.\n",
    "\n",
    "---\n",
    "\n",
    "# **Bagging: Random Forest**\n",
    "## Concept\n",
    "Bagging trains multiple models on different bootstrapped datasets and aggregates their predictions. Random Forest applies Bagging to decision trees while introducing random feature selection for each split.\n",
    "\n",
    "### Steps:\n",
    "1. Randomly sample the training data with replacement.\n",
    "2. Train a weak learner (e.g., a decision tree) on each subset.\n",
    "3. Combine predictions (average for regression, majority vote for classification).\n",
    "\n",
    "\n"
   ]
  },
  {
   "cell_type": "code",
   "execution_count": 4,
   "id": "9eea644c-5eba-450b-a465-6d7271bfca8b",
   "metadata": {},
   "outputs": [
    {
     "name": "stdout",
     "output_type": "stream",
     "text": [
      "Random Forest Accuracy: 1.0\n",
      "              precision    recall  f1-score   support\n",
      "\n",
      "           0       1.00      1.00      1.00        10\n",
      "           1       1.00      1.00      1.00         9\n",
      "           2       1.00      1.00      1.00        11\n",
      "\n",
      "    accuracy                           1.00        30\n",
      "   macro avg       1.00      1.00      1.00        30\n",
      "weighted avg       1.00      1.00      1.00        30\n",
      "\n"
     ]
    },
    {
     "data": {
      "image/png": "[encoded data removed]",
      "text/plain": [
       "<Figure size 640x480 with 1 Axes>"
      ]
     },
     "metadata": {},
     "output_type": "display_data"
    }
   ],
   "source": [
    "# Load dataset for Random Forest\n",
    "from sklearn.datasets import load_iris\n",
    "from sklearn.ensemble import RandomForestClassifier\n",
    "from sklearn.model_selection import train_test_split\n",
    "from sklearn.metrics import accuracy_score, classification_report\n",
    "import matplotlib.pyplot as plt\n",
    "import seaborn as sns\n",
    "\n",
    "# Load Iris dataset\n",
    "iris = load_iris()\n",
    "X, y = iris.data, iris.target\n",
    "\n",
    "# Split data\n",
    "X_train, X_test, y_train, y_test = train_test_split(X, y, test_size=0.2, random_state=42)\n",
    "\n",
    "# Random Forest Classifier\n",
    "rf = RandomForestClassifier(n_estimators=100, random_state=42)\n",
    "rf.fit(X_train, y_train)\n",
    "y_pred_rf = rf.predict(X_test)\n",
    "\n",
    "# Evaluation\n",
    "print(\"Random Forest Accuracy:\", accuracy_score(y_test, y_pred_rf))\n",
    "print(classification_report(y_test, y_pred_rf))\n",
    "\n",
    "# Feature Importance\n",
    "importances = rf.feature_importances_\n",
    "sns.barplot(x=importances, y=iris.feature_names)\n",
    "plt.title(\"Feature Importance (Random Forest)\")\n",
    "plt.show()\n"
   ]
  },
  {
   "cell_type": "markdown",
   "id": "ad19761d-62b8-407f-b3da-cb9e02827f92",
   "metadata": {},
   "source": [
    "## Random Forest Classifier on Iris Dataset\n",
    "\n",
    "This script demonstrates how to use the **Random Forest Classifier** on the **Iris dataset** for classification. The model is trained, evaluated, and its feature importance is visualized.\n",
    "\n",
    "### Steps in the Script:\n",
    "\n",
    "1. **Load the Iris Dataset**:\n",
    "   - The **Iris dataset** is loaded using `load_iris()`, which contains features of iris flowers and their species.\n",
    "   - The features are stored in `X`, and the target labels (species) are stored in `y`.\n",
    "\n",
    "2. **Data Splitting**:\n",
    "   - The dataset is split into training and test sets using `train_test_split()` with 80% of the data for training and 20% for testing. The `random_state=42` ensures reproducibility.\n",
    "\n",
    "3. **Training the Random Forest Classifier**:\n",
    "   - A **Random Forest classifier** is initialized with 100 estimators (`n_estimators=100`) and trained on the training data (`X_train`, `y_train`).\n",
    "   - The model is then used to predict the labels for the test data (`X_test`).\n",
    "\n",
    "4. **Model Evaluation**:\n",
    "   - The **accuracy** of the model is computed using `accuracy_score()` to see how well it performs on the test set.\n",
    "   - A **classification report** is generated using `classification_report()` that includes precision, recall, and F1-score for each class.\n",
    "\n",
    "5. **Feature Importance**:\n",
    "   - The **feature importance** is extracted using `rf.feature_importances_` and visualized with a **bar plot** showing the importance of each feature in the decision-making process.\n",
    "\n",
    "### Output:\n",
    "\n",
    "- **Random Forest Accuracy**: 1.0\n",
    "- The accuracy indicates that the Random Forest model achieved perfect accuracy on the Iris test data (100% correct predictions).\n",
    "  \n",
    "- **Classification Report**:\n",
    "  - The classification report shows the following metrics for each class:\n",
    "    - Precision, recall, and F1-score of 1.00 for all three iris species (class 0, 1, and 2).\n",
    "    - The model has perfect performance on all classes.\n",
    "\n",
    "- **Feature Importance**:\n",
    "  - A bar plot of feature importance is displayed, which shows how much each feature contributes to the decision-making process in the Random Forest model.\n"
   ]
  },
  {
   "cell_type": "markdown",
   "id": "00f62b34-49e4-4e6f-b84a-42811c30d5ec",
   "metadata": {},
   "source": [
    "# **Boosting**\n",
    "Boosting sequentially trains weak learners, focusing on misclassified samples. Unlike Bagging, Boosting adjusts model weights to minimize errors iteratively.\n",
    "\n",
    "---\n",
    "\n",
    "## 1. **AdaBoost**\n",
    "### Concept:\n",
    "AdaBoost (Adaptive Boosting) assigns weights to each data point. Misclassified points receive higher weights in the next iteration, forcing the model to learn from its mistakes.\n",
    "\n",
    "\n",
    "### Python Implementation:\n",
    "We'll use `AdaBoostClassifier` from `sklearn`.\n"
   ]
  },
  {
   "cell_type": "code",
   "execution_count": 5,
   "id": "17edc85e-0d63-416b-9e04-15be469d7de0",
   "metadata": {},
   "outputs": [
    {
     "name": "stdout",
     "output_type": "stream",
     "text": [
      "AdaBoost Accuracy: 1.0\n",
      "              precision    recall  f1-score   support\n",
      "\n",
      "           0       1.00      1.00      1.00        10\n",
      "           1       1.00      1.00      1.00         9\n",
      "           2       1.00      1.00      1.00        11\n",
      "\n",
      "    accuracy                           1.00        30\n",
      "   macro avg       1.00      1.00      1.00        30\n",
      "weighted avg       1.00      1.00      1.00        30\n",
      "\n"
     ]
    },
    {
     "name": "stderr",
     "output_type": "stream",
     "text": [
      "C:\\Users\\BRC\\anaconda3\\envs\\MTLTrajectTravel\\Lib\\site-packages\\sklearn\\ensemble\\_weight_boosting.py:527: FutureWarning: The SAMME.R algorithm (the default) is deprecated and will be removed in 1.6. Use the SAMME algorithm to circumvent this warning.\n",
      "  warnings.warn(\n"
     ]
    }
   ],
   "source": [
    "from sklearn.ensemble import AdaBoostClassifier\n",
    "\n",
    "# AdaBoost Classifier\n",
    "adaboost = AdaBoostClassifier(n_estimators=50, random_state=42)\n",
    "adaboost.fit(X_train, y_train)\n",
    "y_pred_ada = adaboost.predict(X_test)\n",
    "\n",
    "# Evaluation\n",
    "print(\"AdaBoost Accuracy:\", accuracy_score(y_test, y_pred_ada))\n",
    "print(classification_report(y_test, y_pred_ada))\n"
   ]
  },
  {
   "cell_type": "markdown",
   "id": "735c476b-3097-48e1-b12f-42c305f42019",
   "metadata": {},
   "source": [
    "## AdaBoost Classifier on Iris Dataset\n",
    "\n",
    "This script demonstrates how to use the **AdaBoost Classifier** on the **Iris dataset** for classification. The model is trained, evaluated, and its performance metrics are displayed.\n",
    "\n",
    "### Steps in the Script:\n",
    "\n",
    "1. **Load the Iris Dataset**:\n",
    "   - The **Iris dataset** is loaded using `load_iris()`, which contains features of iris flowers and their species.\n",
    "   - The features are stored in `X`, and the target labels (species) are stored in `y`.\n",
    "\n",
    "2. **Data Splitting**:\n",
    "   - The dataset is split into training and test sets using `train_test_split()` with 80% of the data for training and 20% for testing. The `random_state=42` ensures reproducibility.\n",
    "\n",
    "3. **Training the AdaBoost Classifier**:\n",
    "   - An **AdaBoost classifier** is initialized with 50 estimators (`n_estimators=50`) and trained on the training data (`X_train`, `y_train`).\n",
    "   - The model is then used to predict the labels for the test data (`X_test`).\n",
    "\n",
    "4. **Model Evaluation**:\n",
    "   - The **accuracy** of the model is computed using `accuracy_score()` to evaluate its performance on the test set.\n",
    "   - A **classification report** is generated using `classification_report()` that includes precision, recall, and F1-score for each class.\n",
    "\n",
    "### Output:\n",
    "\n",
    "- **AdaBoost Accuracy**: 1.0\n",
    "- The accuracy indicates that the AdaBoost model achieved perfect accuracy on the Iris test data (100% correct predictions).\n",
    "  \n",
    "- **Classification Report**:\n",
    "  - The classification report shows the following metrics for each class:\n",
    "    - Precision, recall, and F1-score of 1.00 for all three iris species (class 0, 1, and 2).\n",
    "    - The model has perfect performance on all classes.\n"
   ]
  },
  {
   "cell_type": "markdown",
   "id": "98c3dd96-bfc3-4c91-bf2b-7a4f4bfe4603",
   "metadata": {},
   "source": [
    "## 2. **Gradient Boosting**\n",
    "### Concept:\n",
    "Gradient Boosting minimizes a loss function by sequentially training weak learners. Each model learns to predict the residual errors of the previous model.\n",
    "\n",
    "### Python Implementation:\n",
    "We'll use `GradientBoostingClassifier` from `sklearn`.\n"
   ]
  },
  {
   "cell_type": "code",
   "execution_count": 6,
   "id": "838d33f4-90e0-4b36-bd7f-37d98cbcf94f",
   "metadata": {},
   "outputs": [
    {
     "name": "stdout",
     "output_type": "stream",
     "text": [
      "Gradient Boosting Accuracy: 1.0\n",
      "              precision    recall  f1-score   support\n",
      "\n",
      "           0       1.00      1.00      1.00        10\n",
      "           1       1.00      1.00      1.00         9\n",
      "           2       1.00      1.00      1.00        11\n",
      "\n",
      "    accuracy                           1.00        30\n",
      "   macro avg       1.00      1.00      1.00        30\n",
      "weighted avg       1.00      1.00      1.00        30\n",
      "\n"
     ]
    }
   ],
   "source": [
    "from sklearn.ensemble import GradientBoostingClassifier\n",
    "\n",
    "# Gradient Boosting Classifier\n",
    "gbc = GradientBoostingClassifier(n_estimators=50, learning_rate=0.1, random_state=42)\n",
    "gbc.fit(X_train, y_train)\n",
    "y_pred_gbc = gbc.predict(X_test)\n",
    "\n",
    "# Evaluation\n",
    "print(\"Gradient Boosting Accuracy:\", accuracy_score(y_test, y_pred_gbc))\n",
    "print(classification_report(y_test, y_pred_gbc))\n"
   ]
  },
  {
   "cell_type": "markdown",
   "id": "fea3fc0b-abac-40b5-a843-41a36b56de13",
   "metadata": {},
   "source": [
    "## Gradient Boosting Classifier on Iris Dataset\n",
    "\n",
    "This script demonstrates how to use the **Gradient Boosting Classifier** on the **Iris dataset** for classification. The model is trained, evaluated, and its performance metrics are displayed.\n",
    "\n",
    "### Steps in the Script:\n",
    "\n",
    "1. **Load the Iris Dataset**:\n",
    "   - The **Iris dataset** is loaded using `load_iris()`, which contains features of iris flowers and their species.\n",
    "   - The features are stored in `X`, and the target labels (species) are stored in `y`.\n",
    "\n",
    "2. **Data Splitting**:\n",
    "   - The dataset is split into training and test sets using `train_test_split()` with 80% of the data for training and 20% for testing. The `random_state=42` ensures reproducibility.\n",
    "\n",
    "3. **Training the Gradient Boosting Classifier**:\n",
    "   - A **Gradient Boosting classifier** is initialized with 50 estimators (`n_estimators=50`) and a learning rate of 0.1 (`learning_rate=0.1`), and trained on the training data (`X_train`, `y_train`).\n",
    "   - The model is then used to predict the labels for the test data (`X_test`).\n",
    "\n",
    "4. **Model Evaluation**:\n",
    "   - The **accuracy** of the model is computed using `accuracy_score()` to evaluate its performance on the test set.\n",
    "   - A **classification report** is generated using `classification_report()` that includes precision, recall, and F1-score for each class.\n",
    "\n",
    "### Output:\n",
    "\n",
    "- **Gradient Boosting Accuracy**: 1.0\n",
    "- The accuracy indicates that the Gradient Boosting model achieved perfect accuracy on the Iris test data (100% correct predictions).\n",
    "\n",
    "- **Classification Report**:\n",
    "  - The classification report shows the following metrics for each class:\n",
    "    - Precision, recall, and F1-score of 1.00 for all three iris species (class 0, 1, and 2).\n",
    "    - The model has perfect performance on all classes.\n",
    "\n"
   ]
  },
  {
   "cell_type": "markdown",
   "id": "5cf0370d-46fa-458c-9d04-cf0e74dc9efa",
   "metadata": {},
   "source": [
    "## 3. **XGBoost**\n",
    "### Concept:\n",
    "XGBoost is an optimized implementation of Gradient Boosting with enhancements:\n",
    "1. Regularization to prevent overfitting.\n",
    "2. Parallel computation for efficiency.\n",
    "3. Sparse data handling.\n",
    "\n",
    "### Python Implementation:\n",
    "We'll use the `xgboost` library.\n"
   ]
  },
  {
   "cell_type": "code",
   "execution_count": 7,
   "id": "5551a0ea-8b1e-4c57-aba1-b0f5b64c0eae",
   "metadata": {},
   "outputs": [
    {
     "name": "stdout",
     "output_type": "stream",
     "text": [
      "XGBoost Accuracy: 1.0\n",
      "              precision    recall  f1-score   support\n",
      "\n",
      "           0       1.00      1.00      1.00        10\n",
      "           1       1.00      1.00      1.00         9\n",
      "           2       1.00      1.00      1.00        11\n",
      "\n",
      "    accuracy                           1.00        30\n",
      "   macro avg       1.00      1.00      1.00        30\n",
      "weighted avg       1.00      1.00      1.00        30\n",
      "\n"
     ]
    }
   ],
   "source": [
    "from xgboost import XGBClassifier\n",
    "\n",
    "\n",
    "# XGBoost Classifier\n",
    "xgb = XGBClassifier(n_estimators=50, learning_rate=0.1, random_state=42)\n",
    "xgb.fit(X_train, y_train)\n",
    "y_pred_xgb = xgb.predict(X_test)\n",
    "\n",
    "# Evaluation\n",
    "print(\"XGBoost Accuracy:\", accuracy_score(y_test, y_pred_xgb))\n",
    "print(classification_report(y_test, y_pred_xgb))\n"
   ]
  },
  {
   "cell_type": "markdown",
   "id": "20bba2b0-4d36-4cda-a78d-f26a30a27f89",
   "metadata": {},
   "source": [
    "## XGBoost Classifier on Iris Dataset\n",
    "\n",
    "This script demonstrates how to use the **XGBoost Classifier** on the **Iris dataset** for classification. The model is trained, evaluated, and its performance metrics are displayed.\n",
    "\n",
    "### Steps in the Script:\n",
    "\n",
    "1. **Load the Iris Dataset**:\n",
    "   - The **Iris dataset** is loaded using `load_iris()`, which contains features of iris flowers and their species.\n",
    "   - The features are stored in `X`, and the target labels (species) are stored in `y`.\n",
    "\n",
    "2. **Data Splitting**:\n",
    "   - The dataset is split into training and test sets using `train_test_split()` with 80% of the data for training and 20% for testing. The `random_state=42` ensures reproducibility.\n",
    "\n",
    "3. **Training the XGBoost Classifier**:\n",
    "   - An **XGBoost classifier** is initialized with 50 estimators (`n_estimators=50`) and a learning rate of 0.1 (`learning_rate=0.1`), and trained on the training data (`X_train`, `y_train`).\n",
    "   - The model is then used to predict the labels for the test data (`X_test`).\n",
    "\n",
    "4. **Model Evaluation**:\n",
    "   - The **accuracy** of the model is computed using `accuracy_score()` to evaluate its performance on the test set.\n",
    "   - A **classification report** is generated using `classification_report()` that includes precision, recall, and F1-score for each class.\n",
    "\n",
    "### Output:\n",
    "\n",
    "- **XGBoost Accuracy**: 1.0\n",
    "- The accuracy indicates that the XGBoost model achieved perfect accuracy on the Iris test data (100% correct predictions).\n",
    "\n",
    "- **Classification Report**:\n",
    "  - The classification report shows the following metrics for each class:\n",
    "    - Precision, recall, and F1-score of 1.00 for all three iris species (class 0, 1, and 2).\n",
    "    - The model has perfect performance on all classes.\n",
    "\n"
   ]
  },
  {
   "cell_type": "markdown",
   "id": "d0b09da7-41bb-4135-a6a9-b1c1d1047fce",
   "metadata": {},
   "source": [
    "# **Performance Comparison**\n",
    "We'll compare the performance of Random Forest, AdaBoost, Gradient Boosting, and XGBoost using accuracy and confusion matrices.\n"
   ]
  },
  {
   "cell_type": "code",
   "execution_count": 8,
   "id": "06a90e91-934a-4a81-903e-23e5f40bdfa0",
   "metadata": {},
   "outputs": [
    {
     "name": "stdout",
     "output_type": "stream",
     "text": [
      "Random Forest Accuracy: 1.00\n"
     ]
    },
    {
     "data": {
      "image/png": "[encoded data removed]",
      "text/plain": [
       "<Figure size 640x480 with 2 Axes>"
      ]
     },
     "metadata": {},
     "output_type": "display_data"
    },
    {
     "name": "stdout",
     "output_type": "stream",
     "text": [
      "AdaBoost Accuracy: 1.00\n"
     ]
    },
    {
     "data": {
      "image/png": "[encoded data removed]",
      "text/plain": [
       "<Figure size 640x480 with 2 Axes>"
      ]
     },
     "metadata": {},
     "output_type": "display_data"
    },
    {
     "name": "stdout",
     "output_type": "stream",
     "text": [
      "Gradient Boosting Accuracy: 1.00\n"
     ]
    },
    {
     "data": {
      "image/png": "[encoded data removed]",
      "text/plain": [
       "<Figure size 640x480 with 2 Axes>"
      ]
     },
     "metadata": {},
     "output_type": "display_data"
    },
    {
     "name": "stdout",
     "output_type": "stream",
     "text": [
      "XGBoost Accuracy: 1.00\n"
     ]
    },
    {
     "data": {
      "image/png": "[encoded data removed]",
      "text/plain": [
       "<Figure size 640x480 with 2 Axes>"
      ]
     },
     "metadata": {},
     "output_type": "display_data"
    }
   ],
   "source": [
    "from sklearn.metrics import confusion_matrix, ConfusionMatrixDisplay\n",
    "\n",
    "# Compare models\n",
    "models = {\n",
    "    \"Random Forest\": y_pred_rf,\n",
    "    \"AdaBoost\": y_pred_ada,\n",
    "    \"Gradient Boosting\": y_pred_gbc,\n",
    "    \"XGBoost\": y_pred_xgb\n",
    "}\n",
    "\n",
    "# Display Accuracy and Confusion Matrices\n",
    "for name, preds in models.items():\n",
    "    print(f\"{name} Accuracy: {accuracy_score(y_test, preds):.2f}\")\n",
    "    cm = confusion_matrix(y_test, preds)\n",
    "    disp = ConfusionMatrixDisplay(confusion_matrix=cm, display_labels=iris.target_names)\n",
    "    disp.plot(cmap='Blues')\n",
    "    plt.title(f\"{name} Confusion Matrix\")\n",
    "    plt.show()\n"
   ]
  },
  {
   "cell_type": "markdown",
   "id": "a006a520-1a51-4062-9774-3ae9d08f03a3",
   "metadata": {},
   "source": [
    "# **Ensemble Learning with Hyperparameter Tuning and Cross-Validation**\n",
    "In this notebook, we will:\n",
    "1. Tune hyperparameters for ensemble methods (Random Forest, AdaBoost, Gradient Boosting, XGBoost).\n",
    "2. Evaluate the models using cross-validation for robust performance metrics.\n",
    "3. Compare the models using visualization.\n",
    "4. Apply these methods to real-world datasets like the Titanic dataset.\n",
    "\n",
    "---\n",
    "\n",
    "## **Step 1: Load and Preprocess the Dataset**\n",
    "We start by loading the Titanic dataset and preparing it for machine learning tasks.\n"
   ]
  },
  {
   "cell_type": "code",
   "execution_count": 42,
   "id": "fd6fa7b0-4c13-42e2-bd0c-32ba07fb1a14",
   "metadata": {},
   "outputs": [],
   "source": [
    "# Import necessary libraries\n",
    "import pandas as pd\n",
    "import numpy as np\n",
    "from sklearn.model_selection import train_test_split\n",
    "from sklearn.preprocessing import LabelEncoder\n",
    "from sklearn.metrics import accuracy_score, classification_report, confusion_matrix\n",
    "import matplotlib.pyplot as plt\n",
    "import seaborn as sns\n",
    "\n",
    "# Load the Titanic dataset\n",
    "url = \"https://raw.githubusercontent.com/datasciencedojo/datasets/master/titanic.csv\"\n",
    "data = pd.read_csv(url)\n",
    "\n",
    "# Fill missing 'Age' with the median\n",
    "data['Age'] = data['Age'].fillna(data['Age'].median())\n",
    "\n",
    "# Fill missing 'Embarked' with the mode\n",
    "data['Embarked'] = data['Embarked'].fillna(data['Embarked'].mode()[0])\n",
    "\n",
    "# Drop unnecessary columns\n",
    "data.drop(columns=['Cabin', 'PassengerId', 'Name', 'Ticket'], inplace=True)\n",
    "\n",
    "# Encode categorical variables\n",
    "label_encoder = LabelEncoder()\n",
    "data['Sex'] = label_encoder.fit_transform(data['Sex'])\n",
    "data['Embarked'] = label_encoder.fit_transform(data['Embarked'])\n",
    "\n",
    "# Split the dataset\n",
    "X = data.drop('Survived', axis=1)\n",
    "y = data['Survived']\n",
    "X_train, X_test, y_train, y_test = train_test_split(X, y, test_size=0.2, random_state=42)\n"
   ]
  },
  {
   "cell_type": "markdown",
   "id": "e8f98228-9c81-449f-a516-9aada9fd2a3f",
   "metadata": {},
   "source": [
    "## Titanic Dataset Preprocessing\n",
    "\n",
    "This script demonstrates how to preprocess the **Titanic dataset** to prepare it for machine learning tasks. The dataset is loaded, cleaned, and transformed, ensuring it is ready for training and evaluation.\n",
    "\n",
    "### Steps in the Script:\n",
    "\n",
    "1. **Load the Titanic Dataset**:\n",
    "   - The dataset is loaded from a publicly available URL using `pd.read_csv()`.\n",
    "\n",
    "2. **Handling Missing Values**:\n",
    "   - Missing values in the `Age` column are filled with the median value of the column using `fillna()`.\n",
    "   - Missing values in the `Embarked` column are filled with the mode (most frequent value) of the column.\n",
    "\n",
    "3. **Dropping Unnecessary Columns**:\n",
    "   - Columns like `Cabin`, `PassengerId`, `Name`, and `Ticket` are dropped as they are either irrelevant for the analysis or contain too many missing values.\n",
    "\n",
    "4. **Encoding Categorical Variables**:\n",
    "   - The `Sex` and `Embarked` columns, which are categorical, are encoded into numerical format using `LabelEncoder()` from `sklearn.preprocessing`.\n",
    "\n",
    "5. **Splitting the Dataset**:\n",
    "   - The dataset is split into features (`X`) and the target variable (`y`), where:\n",
    "     - `X`: Contains all predictor features.\n",
    "     - `y`: Contains the target variable (`Survived`).\n",
    "   - The data is then split into training and test sets using `train_test_split()` with 80% of the data for training and 20% for testing. The `random_state=42` ensures reproducibility.\n",
    "\n",
    "### Resulting Dataset:\n",
    "\n",
    "- The dataset is cleaned, with missing values handled and unnecessary columns removed.\n",
    "- Categorical variables are converted into numerical format.\n",
    "- Training and test sets are created for use in machine learning models.\n",
    "\n",
    "\n"
   ]
  },
  {
   "cell_type": "markdown",
   "id": "79ece692-f27d-4fa0-b6a3-51a83f852756",
   "metadata": {},
   "source": [
    "## **Step 2: Hyperparameter Tuning with GridSearchCV**\n",
    "We will tune hyperparameters for each model using `GridSearchCV` to find the optimal parameters for better performance.\n"
   ]
  },
  {
   "cell_type": "code",
   "execution_count": 43,
   "id": "413b3a30-edcd-4c84-bd11-05d3e0acc542",
   "metadata": {},
   "outputs": [
    {
     "name": "stdout",
     "output_type": "stream",
     "text": [
      "Fitting 5 folds for each of 81 candidates, totalling 405 fits\n",
      "Best Parameters for Random Forest: {'max_depth': 10, 'min_samples_leaf': 4, 'min_samples_split': 10, 'n_estimators': 100}\n",
      "Random Forest (Tuned) Accuracy: 0.8212290502793296\n",
      "              precision    recall  f1-score   support\n",
      "\n",
      "           0       0.81      0.90      0.86       105\n",
      "           1       0.84      0.70      0.76        74\n",
      "\n",
      "    accuracy                           0.82       179\n",
      "   macro avg       0.83      0.80      0.81       179\n",
      "weighted avg       0.82      0.82      0.82       179\n",
      "\n"
     ]
    }
   ],
   "source": [
    "from sklearn.ensemble import RandomForestClassifier\n",
    "from sklearn.model_selection import GridSearchCV\n",
    "\n",
    "# Hyperparameter tuning for Random Forest\n",
    "rf_param_grid = {\n",
    "    'n_estimators': [50, 100, 200],\n",
    "    'max_depth': [None, 10, 20],\n",
    "    'min_samples_split': [2, 5, 10],\n",
    "    'min_samples_leaf': [1, 2, 4]\n",
    "}\n",
    "\n",
    "rf_grid_search = GridSearchCV(estimator=RandomForestClassifier(random_state=42),\n",
    "                              param_grid=rf_param_grid, \n",
    "                              cv=5, n_jobs=-1, verbose=2)\n",
    "rf_grid_search.fit(X_train, y_train)\n",
    "\n",
    "# Best model and evaluation\n",
    "best_rf_model = rf_grid_search.best_estimator_\n",
    "y_pred_rf_best = best_rf_model.predict(X_test)\n",
    "\n",
    "print(\"Best Parameters for Random Forest:\", rf_grid_search.best_params_)\n",
    "print(\"Random Forest (Tuned) Accuracy:\", accuracy_score(y_test, y_pred_rf_best))\n",
    "print(classification_report(y_test, y_pred_rf_best))\n"
   ]
  },
  {
   "cell_type": "markdown",
   "id": "e449b7e7-08b7-4272-be92-a4e88118b0c7",
   "metadata": {},
   "source": [
    "## Random Forest Hyperparameter Tuning on Titanic Dataset\n",
    "\n",
    "This script demonstrates how to perform hyperparameter tuning on a **Random Forest Classifier** using `GridSearchCV`. The best combination of hyperparameters is selected based on cross-validation performance, and the tuned model is evaluated on the test set.\n",
    "\n",
    "### Steps in the Script:\n",
    "\n",
    "1. **Define Hyperparameter Grid**:\n",
    "   - A grid of hyperparameters for the Random Forest Classifier is defined. The parameters include:\n",
    "     - `n_estimators`: Number of trees in the forest (50, 100, 200).\n",
    "     - `max_depth`: Maximum depth of the tree (None, 10, 20).\n",
    "     - `min_samples_split`: Minimum number of samples required to split an internal node (2, 5, 10).\n",
    "     - `min_samples_leaf`: Minimum number of samples required to be at a leaf node (1, 2, 4).\n",
    "\n",
    "2. **Grid Search with Cross-Validation**:\n",
    "   - `GridSearchCV` is used to perform exhaustive search over the specified hyperparameter grid.\n",
    "   - The search is conducted with 5-fold cross-validation and all computations are parallelized (`n_jobs=-1`).\n",
    "\n",
    "3. **Train and Evaluate the Best Model**:\n",
    "   - The best combination of hyperparameters is identified using `rf_grid_search.best_params_`.\n",
    "   - The model with the best parameters is used to make predictions on the test set (`X_test`).\n",
    "   - The model's performance is evaluated using accuracy, precision, recall, and F1-score.\n",
    "\n",
    "### Output:\n",
    "\n",
    "- **Best Parameters**:\n",
    "  - `{'max_depth': 10, 'min_samples_leaf': 4, 'min_samples_split': 10, 'n_estimators': 100}`\n",
    "  - This combination of hyperparameters yielded the best performance during cross-validation.\n",
    "\n",
    "- **Random Forest (Tuned) Accuracy**:\n",
    "  - The accuracy of the tuned model on the test set is **82.12%**.\n",
    "\n",
    "- **Classification Report**:\n",
    "  - Precision, recall, and F1-score for each class are provided:\n",
    "    - Class 0 (Not Survived): Precision = 0.81, Recall = 0.90, F1-score = 0.86.\n",
    "    - Class 1 (Survived): Precision = 0.84, Recall = 0.70, F1-score = 0.76.\n",
    "  - The model performs slightly better for Class 0 (Not Survived) than Class 1 (Survived).\n",
    "\n",
    "\n"
   ]
  },
  {
   "cell_type": "code",
   "execution_count": 61,
   "id": "3d474a23-dd58-45b6-aa44-f5e53bab3411",
   "metadata": {},
   "outputs": [
    {
     "name": "stdout",
     "output_type": "stream",
     "text": [
      "Fitting 5 folds for each of 9 candidates, totalling 45 fits\n",
      "Best Parameters for AdaBoost: {'algorithm': 'SAMME', 'learning_rate': 1.0, 'n_estimators': 150}\n",
      "AdaBoost (Tuned) Accuracy: 0.8100558659217877\n",
      "              precision    recall  f1-score   support\n",
      "\n",
      "           0       0.83      0.86      0.84       105\n",
      "           1       0.79      0.74      0.76        74\n",
      "\n",
      "    accuracy                           0.81       179\n",
      "   macro avg       0.81      0.80      0.80       179\n",
      "weighted avg       0.81      0.81      0.81       179\n",
      "\n"
     ]
    }
   ],
   "source": [
    "from sklearn.ensemble import AdaBoostClassifier\n",
    "from sklearn.model_selection import GridSearchCV\n",
    "from sklearn.metrics import accuracy_score, classification_report\n",
    "\n",
    "# Hyperparameter tuning for AdaBoost\n",
    "ada_param_grid = {\n",
    "    'n_estimators': [50, 100, 150],\n",
    "    'learning_rate': [0.01, 0.1, 1.0],\n",
    "    'algorithm': ['SAMME']  # Explicitly using the SAMME algorithm\n",
    "}\n",
    "\n",
    "ada_grid_search = GridSearchCV(estimator=AdaBoostClassifier(random_state=42),\n",
    "                               param_grid=ada_param_grid, \n",
    "                               cv=5, n_jobs=-1, verbose=2)\n",
    "ada_grid_search.fit(X_train, y_train)\n",
    "\n",
    "# Best model and evaluation\n",
    "best_ada_model = ada_grid_search.best_estimator_\n",
    "y_pred_ada_best = best_ada_model.predict(X_test)\n",
    "\n",
    "# Output best parameters and model evaluation\n",
    "print(\"Best Parameters for AdaBoost:\", ada_grid_search.best_params_)\n",
    "print(\"AdaBoost (Tuned) Accuracy:\", accuracy_score(y_test, y_pred_ada_best))\n",
    "print(classification_report(y_test, y_pred_ada_best))\n",
    "\n"
   ]
  },
  {
   "cell_type": "markdown",
   "id": "714dd024-943e-4a33-a1ef-3034fcf541fd",
   "metadata": {},
   "source": [
    "## AdaBoost Hyperparameter Tuning on Titanic Dataset\n",
    "\n",
    "This script demonstrates how to perform hyperparameter tuning on an **AdaBoost Classifier** using `GridSearchCV`. The best combination of hyperparameters is selected based on cross-validation performance, and the tuned model is evaluated on the test set.\n",
    "\n",
    "### Steps in the Script:\n",
    "\n",
    "1. **Define Hyperparameter Grid**:\n",
    "   - A grid of hyperparameters for the AdaBoost Classifier is defined. The parameters include:\n",
    "     - `n_estimators`: Number of weak learners (50, 100, 150).\n",
    "     - `learning_rate`: Weight applied to each classifier at each boosting step (0.01, 0.1, 1.0).\n",
    "     - `algorithm`: The boosting algorithm (`SAMME` explicitly used to address deprecation of `SAMME.R`).\n",
    "\n",
    "2. **Grid Search with Cross-Validation**:\n",
    "   - `GridSearchCV` is used to perform exhaustive search over the specified hyperparameter grid.\n",
    "   - The search is conducted with 5-fold cross-validation, testing each combination of hyperparameters.\n",
    "\n",
    "3. **Train and Evaluate the Best Model**:\n",
    "   - The best combination of hyperparameters is identified using `ada_grid_search.best_params_`.\n",
    "   - The model with the best parameters is used to make predictions on the test set (`X_test`).\n",
    "   - The model's performance is evaluated using accuracy, precision, recall, and F1-score.\n",
    "\n",
    "### Output:\n",
    "\n",
    "- **Best Parameters**:\n",
    "  - `{'algorithm': 'SAMME', 'learning_rate': 1.0, 'n_estimators': 150}`\n",
    "  - This combination of hyperparameters yielded the best performance during cross-validation.\n",
    "\n",
    "- **AdaBoost (Tuned) Accuracy**:\n",
    "  - The accuracy of the tuned model on the test set is **81.01%**.\n",
    "\n",
    "- **Classification Report**:\n",
    "  - Precision, recall, and F1-score for each class are provided:\n",
    "    - Class 0 (Not Survived): Precision = 0.83, Recall = 0.86, F1-score = 0.84.\n",
    "    - Class 1 (Survived): Precision = 0.79, Recall = 0.74, F1-score = 0.76.\n",
    "  - The model performs slightly better for Class 0 (Not Survived) than Class 1 (Survived).\n",
    "\n"
   ]
  },
  {
   "cell_type": "code",
   "execution_count": 56,
   "id": "22bc08db-9b12-47d5-b616-730b38a60a88",
   "metadata": {},
   "outputs": [
    {
     "name": "stdout",
     "output_type": "stream",
     "text": [
      "Fitting 5 folds for each of 36 candidates, totalling 180 fits\n",
      "Best Parameters for Gradient Boosting: {'learning_rate': 0.1, 'max_depth': 3, 'n_estimators': 50, 'subsample': 0.8}\n",
      "Gradient Boosting (Tuned) Accuracy: 0.8044692737430168\n",
      "              precision    recall  f1-score   support\n",
      "\n",
      "           0       0.81      0.88      0.84       105\n",
      "           1       0.80      0.70      0.75        74\n",
      "\n",
      "    accuracy                           0.80       179\n",
      "   macro avg       0.80      0.79      0.79       179\n",
      "weighted avg       0.80      0.80      0.80       179\n",
      "\n"
     ]
    }
   ],
   "source": [
    "from sklearn.ensemble import GradientBoostingClassifier\n",
    "\n",
    "# Hyperparameter tuning for Gradient Boosting\n",
    "gbc_param_grid = {\n",
    "    'n_estimators': [50, 100],\n",
    "    'learning_rate': [0.05, 0.1, 0.2],\n",
    "    'max_depth': [3, 5, 7],\n",
    "    'subsample': [0.8, 1.0]\n",
    "}\n",
    "\n",
    "gbc_grid_search = GridSearchCV(estimator=GradientBoostingClassifier(random_state=42),\n",
    "                               param_grid=gbc_param_grid, \n",
    "                               cv=5, n_jobs=-1, verbose=2)\n",
    "gbc_grid_search.fit(X_train, y_train)\n",
    "\n",
    "# Best model and evaluation\n",
    "best_gbc_model = gbc_grid_search.best_estimator_\n",
    "y_pred_gbc_best = best_gbc_model.predict(X_test)\n",
    "\n",
    "print(\"Best Parameters for Gradient Boosting:\", gbc_grid_search.best_params_)\n",
    "print(\"Gradient Boosting (Tuned) Accuracy:\", accuracy_score(y_test, y_pred_gbc_best))\n",
    "print(classification_report(y_test, y_pred_gbc_best))\n"
   ]
  },
  {
   "cell_type": "markdown",
   "id": "4d236064-5318-412b-a450-0151fe8e6727",
   "metadata": {},
   "source": [
    "## Gradient Boosting Hyperparameter Tuning on Titanic Dataset\n",
    "\n",
    "This script demonstrates how to perform hyperparameter tuning on a **Gradient Boosting Classifier** using `GridSearchCV`. The best combination of hyperparameters is selected based on cross-validation performance, and the tuned model is evaluated on the test set.\n",
    "\n",
    "### Steps in the Script:\n",
    "\n",
    "1. **Define Hyperparameter Grid**:\n",
    "   - A grid of hyperparameters for the Gradient Boosting Classifier is defined. The parameters include:\n",
    "     - `n_estimators`: Number of boosting stages (50, 100).\n",
    "     - `learning_rate`: Shrinks contribution of each tree (0.05, 0.1, 0.2).\n",
    "     - `max_depth`: Maximum depth of individual trees (3, 5, 7).\n",
    "     - `subsample`: Fraction of samples used for fitting each tree (0.8, 1.0).\n",
    "\n",
    "2. **Grid Search with Cross-Validation**:\n",
    "   - `GridSearchCV` is used to perform an exhaustive search over the specified hyperparameter grid.\n",
    "   - The search is conducted with 5-fold cross-validation, testing each combination of hyperparameters.\n",
    "\n",
    "3. **Train and Evaluate the Best Model**:\n",
    "   - The best combination of hyperparameters is identified using `gbc_grid_search.best_params_`.\n",
    "   - The model with the best parameters is used to make predictions on the test set (`X_test`).\n",
    "   - The model's performance is evaluated using accuracy, precision, recall, and F1-score.\n",
    "\n",
    "### Output:\n",
    "\n",
    "- **Best Parameters**:\n",
    "  - `{'learning_rate': 0.1, 'max_depth': 3, 'n_estimators': 50, 'subsample': 0.8}`\n",
    "  - This combination of hyperparameters yielded the best performance during cross-validation.\n",
    "\n",
    "- **Gradient Boosting (Tuned) Accuracy**:\n",
    "  - The accuracy of the tuned model on the test set is **80.45%**.\n",
    "\n",
    "- **Classification Report**:\n",
    "  - Precision, recall, and F1-score for each class are provided:\n",
    "    - Class 0 (Not Survived): Precision = 0.81, Recall = 0.88, F1-score = 0.84.\n",
    "    - Class 1 (Survived): Precision = 0.80, Recall = 0.70, F1-score = 0.75.\n",
    "  - The model performs slightly better for Class 0 (Not Survived) than Class 1 (Survived).\n",
    "\n",
    "\n"
   ]
  },
  {
   "cell_type": "code",
   "execution_count": 46,
   "id": "e354e441-4457-40cb-bdf3-6d170e610867",
   "metadata": {},
   "outputs": [
    {
     "name": "stdout",
     "output_type": "stream",
     "text": [
      "Fitting 5 folds for each of 36 candidates, totalling 180 fits\n",
      "Best Parameters for XGBoost: {'learning_rate': 0.2, 'max_depth': 3, 'n_estimators': 50, 'subsample': 1.0}\n",
      "XGBoost (Tuned) Accuracy: 0.8212290502793296\n",
      "              precision    recall  f1-score   support\n",
      "\n",
      "           0       0.82      0.90      0.85       105\n",
      "           1       0.83      0.72      0.77        74\n",
      "\n",
      "    accuracy                           0.82       179\n",
      "   macro avg       0.82      0.81      0.81       179\n",
      "weighted avg       0.82      0.82      0.82       179\n",
      "\n"
     ]
    }
   ],
   "source": [
    "from xgboost import XGBClassifier\n",
    "\n",
    "# Hyperparameter tuning for XGBoost\n",
    "xgb_param_grid = {\n",
    "    'n_estimators': [50, 100],\n",
    "    'learning_rate': [0.01, 0.1, 0.2],\n",
    "    'max_depth': [3, 5, 7],\n",
    "    'subsample': [0.8, 1.0]\n",
    "}\n",
    "\n",
    "xgb_grid_search = GridSearchCV(estimator=XGBClassifier(random_state=42),\n",
    "                               param_grid=xgb_param_grid, \n",
    "                               cv=5, n_jobs=-1, verbose=2)\n",
    "xgb_grid_search.fit(X_train, y_train)\n",
    "\n",
    "# Best model and evaluation\n",
    "best_xgb_model = xgb_grid_search.best_estimator_\n",
    "y_pred_xgb_best = best_xgb_model.predict(X_test)\n",
    "\n",
    "print(\"Best Parameters for XGBoost:\", xgb_grid_search.best_params_)\n",
    "print(\"XGBoost (Tuned) Accuracy:\", accuracy_score(y_test, y_pred_xgb_best))\n",
    "print(classification_report(y_test, y_pred_xgb_best))\n"
   ]
  },
  {
   "cell_type": "markdown",
   "id": "40fa44a0-89b4-41d4-a4aa-da6b7fc4b915",
   "metadata": {},
   "source": [
    "## XGBoost Hyperparameter Tuning on Titanic Dataset\n",
    "\n",
    "This script demonstrates how to perform hyperparameter tuning on an **XGBoost Classifier** using `GridSearchCV`. The best combination of hyperparameters is selected based on cross-validation performance, and the tuned model is evaluated on the test set.\n",
    "\n",
    "### Steps in the Script:\n",
    "\n",
    "1. **Define Hyperparameter Grid**:\n",
    "   - A grid of hyperparameters for the XGBoost Classifier is defined. The parameters include:\n",
    "     - `n_estimators`: Number of boosting rounds (50, 100).\n",
    "     - `learning_rate`: The rate at which the model learns (0.01, 0.1, 0.2).\n",
    "     - `max_depth`: Maximum depth of trees (3, 5, 7).\n",
    "     - `subsample`: Fraction of samples used for each boosting round (0.8, 1.0).\n",
    "\n",
    "2. **Grid Search with Cross-Validation**:\n",
    "   - `GridSearchCV` is used to perform an exhaustive search over the specified hyperparameter grid.\n",
    "   - The search is conducted with 5-fold cross-validation, testing each combination of hyperparameters.\n",
    "\n",
    "3. **Train and Evaluate the Best Model**:\n",
    "   - The best combination of hyperparameters is identified using `xgb_grid_search.best_params_`.\n",
    "   - The model with the best parameters is used to make predictions on the test set (`X_test`).\n",
    "   - The model's performance is evaluated using accuracy, precision, recall, and F1-score.\n",
    "\n",
    "### Output:\n",
    "\n",
    "- **Best Parameters**:\n",
    "  - `{'learning_rate': 0.2, 'max_depth': 3, 'n_estimators': 50, 'subsample': 1.0}`\n",
    "  - This combination of hyperparameters yielded the best performance during cross-validation.\n",
    "\n",
    "- **XGBoost (Tuned) Accuracy**:\n",
    "  - The accuracy of the tuned model on the test set is **82.12%**.\n",
    "\n",
    "- **Classification Report**:\n",
    "  - Precision, recall, and F1-score for each class are provided:\n",
    "    - Class 0 (Not Survived): Precision = 0.82, Recall = 0.90, F1-score = 0.85.\n",
    "    - Class 1 (Survived): Precision = 0.83, Recall = 0.72, F1-score = 0.77.\n",
    "  - The model performs slightly better for Class 0 (Not Survived) than Class 1 (Survived).\n",
    "\n",
    "\n"
   ]
  },
  {
   "cell_type": "markdown",
   "id": "02407daf-d26f-4e27-9f37-f6262cc8fdef",
   "metadata": {},
   "source": [
    "## **Step 3: Cross-Validation for Robust Evaluation**\n",
    "To ensure robust evaluation, we perform cross-validation on the tuned models and calculate their mean accuracy scores.\n"
   ]
  },
  {
   "cell_type": "code",
   "execution_count": 53,
   "id": "40bb6565-0aa2-471a-ba37-ab51d4729dc0",
   "metadata": {},
   "outputs": [
    {
     "name": "stdout",
     "output_type": "stream",
     "text": [
      "Random Forest Cross-Validation Accuracy: 0.8227041616973197\n",
      "AdaBoost Cross-Validation Accuracy: 0.7979913376435881\n",
      "Gradient Boosting Cross-Validation Accuracy: 0.8215805661917017\n",
      "XGBoost Cross-Validation Accuracy: 0.8170673529596384\n"
     ]
    }
   ],
   "source": [
    "from sklearn.model_selection import cross_val_score\n",
    "from sklearn.ensemble import AdaBoostClassifier\n",
    "\n",
    "# Explicitly setting algorithm to SAMME\n",
    "best_ada_model = AdaBoostClassifier(algorithm='SAMME', n_estimators=100)\n",
    "\n",
    "\n",
    "# Cross-validation for each model\n",
    "cv_scores_rf = cross_val_score(best_rf_model, X, y, cv=5, scoring='accuracy')\n",
    "cv_scores_ada = cross_val_score(best_ada_model, X, y, cv=5, scoring='accuracy')\n",
    "cv_scores_gbc = cross_val_score(best_gbc_model, X, y, cv=5, scoring='accuracy')\n",
    "cv_scores_xgb = cross_val_score(best_xgb_model, X, y, cv=5, scoring='accuracy')\n",
    "\n",
    "# Display mean accuracy for each model\n",
    "print(\"Random Forest Cross-Validation Accuracy:\", np.mean(cv_scores_rf))\n",
    "print(\"AdaBoost Cross-Validation Accuracy:\", np.mean(cv_scores_ada))\n",
    "print(\"Gradient Boosting Cross-Validation Accuracy:\", np.mean(cv_scores_gbc))\n",
    "print(\"XGBoost Cross-Validation Accuracy:\", np.mean(cv_scores_xgb))\n"
   ]
  },
  {
   "cell_type": "markdown",
   "id": "b8f9a863-b307-4c3e-b23a-926ab9380a84",
   "metadata": {},
   "source": [
    "### Cross-Validation Results for Different Models\n",
    "\n",
    "Here are the cross-validation accuracy scores for the models evaluated:\n",
    "\n",
    "- **Random Forest**: 82.27%\n",
    "- **AdaBoost**: 79.80%\n",
    "- **Gradient Boosting**: 82.16%\n",
    "- **XGBoost**: 81.71%\n",
    "\n",
    "### Summary:\n",
    "\n",
    "- **Random Forest** and **Gradient Boosting** provide the highest cross-validation accuracy, closely followed by **XGBoost**.\n",
    "- **AdaBoost** is the lowest performer among these models in terms of cross-validation accuracy.\n"
   ]
  },
  {
   "cell_type": "markdown",
   "id": "96f09c2a-3d16-45c5-99d7-776581ebec75",
   "metadata": {},
   "source": [
    "## **Step 4: Compare and Visualize Model Performance**\n",
    "We compare the cross-validation scores of all tuned models using a bar plot for better visualization.\n"
   ]
  },
  {
   "cell_type": "code",
   "execution_count": 65,
   "id": "04b90f03-abf2-429d-b84e-cfb777911aac",
   "metadata": {},
   "outputs": [
    {
     "data": {
      "image/png": "[encoded data removed]",
      "text/plain": [
       "<Figure size 1000x600 with 1 Axes>"
      ]
     },
     "metadata": {},
     "output_type": "display_data"
    }
   ],
   "source": [
    "# Compare models\n",
    "models_name = ['Random Forest', 'AdaBoost', 'Gradient Boosting', 'XGBoost']\n",
    "cv_scores = [\n",
    "    np.mean(cv_scores_rf),\n",
    "    np.mean(cv_scores_ada),\n",
    "    np.mean(cv_scores_gbc),\n",
    "    np.mean(cv_scores_xgb)\n",
    "]\n",
    "\n",
    "# Plot comparison\n",
    "plt.figure(figsize=(10, 6))\n",
    "sns.barplot(x=models_name, y=cv_scores)\n",
    "\n",
    "plt.title(\"Comparison of Model Cross-Validation Accuracy\")\n",
    "plt.ylabel(\"Mean Accuracy\")\n",
    "plt.show()\n"
   ]
  }
 ],
 "metadata": {
  "kernelspec": {
   "display_name": "Python 3 (ipykernel)",
   "language": "python",
   "name": "python3"
  },
  "language_info": {
   "codemirror_mode": {
    "name": "ipython",
    "version": 3
   },
   "file_extension": ".py",
   "mimetype": "text/x-python",
   "name": "python",
   "nbconvert_exporter": "python",
   "pygments_lexer": "ipython3",
   "version": "3.11.10"
  }
 },
 "nbformat": 4,
 "nbformat_minor": 5
}
